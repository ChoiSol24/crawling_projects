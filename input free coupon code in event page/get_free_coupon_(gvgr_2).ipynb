{
 "cells": [
  {
   "cell_type": "code",
   "execution_count": 5,
   "metadata": {},
   "outputs": [
    {
     "name": "stdout",
     "output_type": "stream",
     "text": [
      "Collecting bs4Note: you may need to restart the kernel to use updated packages.\n",
      "  Downloading bs4-0.0.1.tar.gz (1.1 kB)\n",
      "Requirement already satisfied: beautifulsoup4 in c:\\programdata\\anaconda3\\lib\\site-packages (from bs4) (4.9.1)\n",
      "Requirement already satisfied: soupsieve>1.2 in c:\\programdata\\anaconda3\\lib\\site-packages (from beautifulsoup4->bs4) (2.0.1)\n",
      "Building wheels for collected packages: bs4\n",
      "  Building wheel for bs4 (setup.py): started\n",
      "  Building wheel for bs4 (setup.py): finished with status 'done'\n",
      "  Created wheel for bs4: filename=bs4-0.0.1-py3-none-any.whl size=1279 sha256=0a3a9d881bc7e8055820750aff8f6d695d1e5e51a948cd451139e7da665a0304\n",
      "  Stored in directory: c:\\users\\administrator\\appdata\\local\\pip\\cache\\wheels\\0a\\9e\\ba\\20e5bbc1afef3a491f0b3bb74d508f99403aabe76eda2167ca\n",
      "Successfully built bs4\n",
      "Installing collected packages: bs4\n",
      "Successfully installed bs4-0.0.1\n",
      "\n"
     ]
    }
   ],
   "source": [
    "pip install bs4"
   ]
  },
  {
   "cell_type": "code",
   "execution_count": 34,
   "metadata": {},
   "outputs": [
    {
     "name": "stdout",
     "output_type": "stream",
     "text": [
      "잔금대출에도 DTI 규제 적용 검토\n",
      "잔금대출에도 DTI 규제 적용 검토\n"
     ]
    }
   ],
   "source": [
    "#requests 라이브러리로 html 페이지 요청\n",
    "import requests\n",
    "from bs4 import BeautifulSoup\n",
    "#res 객체에 html 데이터가 저장하고 res.content로 데이터 추출\n",
    "res = requests.get('https://gift.supermembers.net/coupon/?code=SMSUPDATE')\n",
    "#print(res.content)\n",
    "\n",
    "#html 페이지 파싱 BeautifulSoup\n",
    "soup = BeautifulSoup(res.content,'html.parser')\n",
    "\n",
    "#필요 데이터 검색\n",
    "title = soup.select('title')[0]\n",
    "\n",
    "#필요 데이터 추출\n",
    "print(title.string)\n",
    "print(title.get_text())\n"
   ]
  },
  {
   "cell_type": "code",
   "execution_count": 22,
   "metadata": {},
   "outputs": [
    {
     "name": "stdout",
     "output_type": "stream",
     "text": [
      "<span class=\"ir_wa\">뉴스</span>\n",
      "뉴스\n"
     ]
    }
   ],
   "source": [
    "#태그로 검색 방법 (이때 가장 먼저 검색되는 태그를 반환한다. )\n",
    "title_data = soup.find('span')\n",
    "print(title_data)\n",
    "print(title_data.string)"
   ]
  },
  {
   "cell_type": "code",
   "execution_count": 4,
   "metadata": {},
   "outputs": [
    {
     "name": "stdout",
     "output_type": "stream",
     "text": [
      "Requirement already satisfied: selenium in c:\\programdata\\anaconda3\\lib\\site-packages (3.141.0)Note: you may need to restart the kernel to use updated packages.\n",
      "Requirement already satisfied: urllib3 in c:\\programdata\\anaconda3\\lib\\site-packages (from selenium) (1.25.9)\n",
      "\n"
     ]
    }
   ],
   "source": [
    "pip install selenium"
   ]
  },
  {
   "cell_type": "code",
   "execution_count": 1,
   "metadata": {},
   "outputs": [],
   "source": [
    "from selenium import webdriver\n",
    "from selenium.webdriver.common.by import By\n",
    "from selenium.webdriver.support import expected_conditions as EC\n",
    "from selenium.webdriver.support.ui import WebDriverWait\n"
   ]
  },
  {
   "cell_type": "code",
   "execution_count": 3,
   "metadata": {},
   "outputs": [],
   "source": [
    "from selenium import webdriver\n",
    "import math\n",
    "import time\n",
    "\n",
    "driver = webdriver.Chrome(executable_path = 'C:/Users/Administrator/Desktop/crawling/crawling_practice/chromedriver_win32/chromedriver.exe')\n",
    "#https://gift.supermembers.net/coupon/?code=SMSUPDATE&scode=gvgr_1&name=수정석&ok=1\n",
    "#driver.implicitly_wait(10)\n",
    "\n",
    "ids = ['test']\n",
    "code = \"EHTIDLELUCID\"\n",
    "# for i in  :\n",
    "#     drive.get('https://gift.supermembers.net/coupon/')\n",
    "for i in range(len(ids)):\n",
    "    driver.get('https://gift.supermembers.net/coupon/')\n",
    "    elem = driver.find_element_by_id(\"input_code\")\n",
    "    elem.send_keys(code)\n",
    "    btn = driver.find_element_by_id(\"input_code-btn\")\n",
    "    btn.click()\n",
    "    #input type=\"radio\" name= \"scode\" value=\"gvgr_2\"\n",
    "    ck = driver.find_element_by_css_selector(\"input[value=gvgr_2]\")\n",
    "    ck.click()\n",
    "    nm = driver.find_element_by_id(\"input_name\")\n",
    "    nm.send_keys(ids[i])\n",
    "    btn2 = driver.find_element_by_id(\"input_name-btn\")\n",
    "    btn2.click()\n",
    "    btn3 =  WebDriverWait(driver,math.inf).until(\n",
    "        EC.presence_of_element_located((By.ID,\"input_confirm-btn-y\"))\n",
    "    )\n",
    "    btn4 = driver.find_element_by_id(\"input_confirm-btn-y\")\n",
    "    btn4.send_keys('\\n')\n",
    "\n",
    "driver.close()\n",
    "    "
   ]
  },
  {
   "cell_type": "code",
   "execution_count": null,
   "metadata": {},
   "outputs": [],
   "source": []
  }
 ],
 "metadata": {
  "kernelspec": {
   "display_name": "Python 3",
   "language": "python",
   "name": "python3"
  },
  "language_info": {
   "codemirror_mode": {
    "name": "ipython",
    "version": 3
   },
   "file_extension": ".py",
   "mimetype": "text/x-python",
   "name": "python",
   "nbconvert_exporter": "python",
   "pygments_lexer": "ipython3",
   "version": "3.7.7"
  }
 },
 "nbformat": 4,
 "nbformat_minor": 4
}
